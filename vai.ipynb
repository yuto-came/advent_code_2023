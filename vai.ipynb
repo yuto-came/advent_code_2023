{
 "cells": [
  {
   "cell_type": "code",
   "execution_count": 3,
   "metadata": {},
   "outputs": [],
   "source": [
    "# !pip install advent-of-code-data\n",
    "# !pip install 'advent-of-code-data[nb]'"
   ]
  },
  {
   "cell_type": "code",
   "execution_count": 143,
   "metadata": {},
   "outputs": [],
   "source": [
    "import numpy as np\n",
    "from aocd import get_data\n",
    "from aocd import submit"
   ]
  },
  {
   "cell_type": "code",
   "execution_count": 24,
   "metadata": {},
   "outputs": [],
   "source": [
    "SESSION=\"53616c7465645f5fadf61d167bbcc919803cfcaaa8c7d5381c72e5e9045343dd8579ca2c13ce27803010178632b0f7805b76e9dee7fb2633746ae226f588aab5\""
   ]
  },
  {
   "cell_type": "markdown",
   "metadata": {},
   "source": [
    "## Day 01"
   ]
  },
  {
   "cell_type": "markdown",
   "metadata": {},
   "source": [
    "### Part 01"
   ]
  },
  {
   "cell_type": "code",
   "execution_count": 193,
   "metadata": {},
   "outputs": [],
   "source": [
    "data = get_data(session=SESSION, day=1, year=2023)"
   ]
  },
  {
   "cell_type": "code",
   "execution_count": 113,
   "metadata": {},
   "outputs": [
    {
     "name": "stdout",
     "output_type": "stream",
     "text": [
      "55130\n"
     ]
    }
   ],
   "source": [
    "first_num = None\n",
    "last_num = None\n",
    "string_sum_int = 0\n",
    "\n",
    "string_sum_list = []\n",
    "\n",
    "for char in data:\n",
    "    # print(char)\n",
    "    if char.isnumeric() and not first_num:\n",
    "        first_num = char\n",
    "\n",
    "    if char.isnumeric():\n",
    "        last_num = char\n",
    "        \n",
    "    if first_num and last_num:\n",
    "        string_sum = first_num + last_num\n",
    "        \n",
    "    if char.isspace():\n",
    "        # string_sum_list.append(int(string_sum))\n",
    "        string_sum_int += int(string_sum)\n",
    "        first_num = None\n",
    "        last_num = None\n",
    "        \n",
    "# string_sum_list.append(int(string_sum))\n",
    "print(string_sum_int + int(string_sum))\n",
    "# sum(string_sum_list)"
   ]
  },
  {
   "cell_type": "markdown",
   "metadata": {},
   "source": [
    "### Part 02"
   ]
  },
  {
   "cell_type": "code",
   "execution_count": 126,
   "metadata": {},
   "outputs": [],
   "source": [
    "import re"
   ]
  },
  {
   "cell_type": "code",
   "execution_count": 276,
   "metadata": {},
   "outputs": [],
   "source": [
    "example = \"two1nine\\neightwothree\\nabcone2threexyz\\nxtwone3four\\n4nineeightseven2\\nzoneight234\\n7pqrstsixteen\\n\""
   ]
  },
  {
   "cell_type": "code",
   "execution_count": 304,
   "metadata": {},
   "outputs": [
    {
     "name": "stdout",
     "output_type": "stream",
     "text": [
      "(?=(\\d|one|two|three|four|five|six|seven|eight|nine))\n"
     ]
    }
   ],
   "source": [
    "num_char_list = ['one', 'two', 'three', 'four', 'five', 'six', 'seven', 'eight', 'nine']\n",
    "pattern = ''\n",
    "\n",
    "for char in num_char_list:\n",
    "    pattern = pattern + '|' + char\n",
    "# pattern = pattern + '|\\d'\n",
    "pattern = '(?=(' + '\\d' + pattern + '))'\n",
    "print(pattern)"
   ]
  },
  {
   "cell_type": "code",
   "execution_count": 297,
   "metadata": {},
   "outputs": [],
   "source": [
    "data_list = data.splitlines()"
   ]
  },
  {
   "cell_type": "code",
   "execution_count": 305,
   "metadata": {},
   "outputs": [
    {
     "data": {
      "text/plain": [
       "54985"
      ]
     },
     "execution_count": 305,
     "metadata": {},
     "output_type": "execute_result"
    }
   ],
   "source": [
    "num_sum = 0\n",
    "for text in data_list:\n",
    "    matches = re.findall(pattern, text)\n",
    "    if matches:\n",
    "        \n",
    "        first_num = (num_char_list.index(matches[0]) + 1) if not matches[0].isnumeric() else int(matches[0])\n",
    "        last_num = (num_char_list.index(matches[-1]) + 1) if not matches[-1].isnumeric() else int(matches[-1])\n",
    "        \n",
    "        text_num = first_num*10 + last_num\n",
    "        \n",
    "        num_sum += text_num\n",
    "\n",
    "num_sum"
   ]
  }
 ],
 "metadata": {
  "kernelspec": {
   "display_name": "Python 3",
   "language": "python",
   "name": "python3"
  },
  "language_info": {
   "codemirror_mode": {
    "name": "ipython",
    "version": 3
   },
   "file_extension": ".py",
   "mimetype": "text/x-python",
   "name": "python",
   "nbconvert_exporter": "python",
   "pygments_lexer": "ipython3",
   "version": "3.10.12"
  }
 },
 "nbformat": 4,
 "nbformat_minor": 2
}
